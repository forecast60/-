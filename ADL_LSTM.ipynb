{
 "cells": [
  {
   "cell_type": "code",
   "execution_count": 3,
   "id": "4b902618-9c63-4486-af13-25850282fc38",
   "metadata": {},
   "outputs": [],
   "source": [
    "import pandas as pd\n",
    "import numpy as np\n",
    "import tensorflow as tf\n",
    "import warnings\n",
    "from tqdm import tqdm\n",
    "warnings.filterwarnings('ignore')"
   ]
  },
  {
   "cell_type": "markdown",
   "id": "47bf6b35-25bc-476c-a12c-f45f1ab44aa3",
   "metadata": {},
   "source": [
    "目标为构建一个ADL+LSTM的预测体系"
   ]
  },
  {
   "cell_type": "markdown",
   "id": "2784d138-da7c-4071-8a5c-19a8ff1dcdbc",
   "metadata": {},
   "source": [
    "上一个脚本中实现了这个功能，但代码写的太烂了，重塑一下"
   ]
  },
  {
   "cell_type": "raw",
   "id": "7f5ab2c0-ab5e-4163-823b-24489ae92a03",
   "metadata": {},
   "source": [
    "if __name__=='__main__':\n",
    "    data=pd.read_excel('无缺失值数据.xlsx')\n",
    "    data=data.dropna(how='any')\n",
    "    data=data.reset_index(drop=True)"
   ]
  },
  {
   "cell_type": "markdown",
   "id": "4069050d-63b7-4934-8a88-6a2518027b05",
   "metadata": {},
   "source": [
    "首先定义一个函数，作用是生成一个data_list，里面包含groupby的全部结果，并进行时间升序排列"
   ]
  },
  {
   "cell_type": "code",
   "execution_count": 4,
   "id": "6b94f686-7bb2-4c2c-a280-536f1f0fa654",
   "metadata": {},
   "outputs": [],
   "source": [
    "def group_data(data,target,time='年份'):\n",
    "    List_=[]\n",
    "    list_=set(data[target])\n",
    "    grouped=data.groupby(target)\n",
    "    for i in tqdm(list_,desc='正在进行 分组降序排列：'):\n",
    "        try:\n",
    "            d=grouped.get_group(i)\n",
    "            d=d.sort_values(by=time, ascending=True)\n",
    "            List_.append(d)\n",
    "        except:\n",
    "            pass\n",
    "    return List_"
   ]
  },
  {
   "cell_type": "raw",
   "id": "acd4ecf3-d307-4082-8993-1c405879782a",
   "metadata": {},
   "source": [
    "if __name__=='__main__':\n",
    "    data_list=group_data(data,'地区','年份')"
   ]
  },
  {
   "cell_type": "markdown",
   "id": "d0f62ccd-6324-4b26-8428-c4c2990f91df",
   "metadata": {},
   "source": [
    "------"
   ]
  },
  {
   "cell_type": "markdown",
   "id": "4b5edc2f-7fea-411a-97d1-4721f05c0e10",
   "metadata": {},
   "source": [
    "以下这个函数可以进行对某一个变量的延迟操作，但这满足不了对adl模型的需求"
   ]
  },
  {
   "cell_type": "code",
   "execution_count": 5,
   "id": "8a48ad57-e7f1-46e6-80ff-bd95f5afa1e2",
   "metadata": {},
   "outputs": [],
   "source": [
    "def replace_features_with_lags(df, target_col, lag):\n",
    "    new_df=df.copy()\n",
    "    for col in tqdm(df.columns,desc='切割'):\n",
    "        if col!=target_col:\n",
    "           new_df[col]=new_df[col].shift(lag)\n",
    "    new_df=new_df.dropna()\n",
    "    return new_df"
   ]
  },
  {
   "cell_type": "raw",
   "id": "8ad1f70b-d4ec-4e06-a61e-ef0cfdf40019",
   "metadata": {},
   "source": [
    "if __name__=='__main__':\n",
    "    for i in data_list:\n",
    "        replace_features_with_lags(i,'地区生产总值',2)"
   ]
  },
  {
   "cell_type": "markdown",
   "id": "f9b0ef0c-4438-49c2-974c-d12fc1327dc1",
   "metadata": {},
   "source": [
    "--------"
   ]
  },
  {
   "cell_type": "code",
   "execution_count": 6,
   "id": "7ca8bd81-20c6-47ce-ae9b-a749afb9e91c",
   "metadata": {},
   "outputs": [],
   "source": [
    "def use_lag_list(data_list,lag_dict): #这个函数使用来处理数据的，初次编写的时候有问题\n",
    "                                      #use_lag_list2修一下bug\n",
    "    list_=[]\n",
    "    for data in tqdm(data_list,desc='正在进行 延迟阶数处理'):\n",
    "        for i in data.columns:\n",
    "            lags=lag_dict[i]\n",
    "            for j in range(lags):\n",
    "                j=j+1\n",
    "                data[i+'_'+str(j)+'阶延迟']=data[i].shift(j)\n",
    "        list_.append(data)\n",
    "    return list_"
   ]
  },
  {
   "cell_type": "code",
   "execution_count": 7,
   "id": "ec036122-f4b0-40d6-9983-0b78cf73cb15",
   "metadata": {},
   "outputs": [],
   "source": [
    "def use_lag_list2(x_columns_list,y_columns_list,lag_dict):\n",
    "    list_=[]\n",
    "    columns=x_columns_list+y_columns_list\n",
    "    for i in columns:\n",
    "        times=lag_dict[i]\n",
    "        for j in range(times):\n",
    "            j=j+1\n",
    "            list_.append(i+'_'+str(j)+'阶延迟')\n",
    "    return list_"
   ]
  },
  {
   "cell_type": "raw",
   "id": "5e586d7e-2eee-41e4-a434-85b7091edf53",
   "metadata": {},
   "source": [
    "if __name__=='__main__':\n",
    "    x=data.columns\n",
    "    lag_dict={}\n",
    "    for i in x:\n",
    "        lag_dict[i]=np.random.randint(4)\n",
    "    data_list=use_lag_list(data_list=data_list,lag_dict=lag_dict)"
   ]
  },
  {
   "cell_type": "markdown",
   "id": "14c507ff-b2bf-4ac4-b1f8-33518d8e4f90",
   "metadata": {},
   "source": [
    "以上内容完成了不同变量延迟阶数的处理，所得到的数据框每一行都是adl模型所需要的样本，我们可以使用最小二乘法进行线性部分的估计"
   ]
  },
  {
   "cell_type": "markdown",
   "id": "3cf1af96-0d30-44d3-b990-8dd5929e55d8",
   "metadata": {},
   "source": [
    "**但是LSTM似乎不需要这样的结构**，下面先进行adl模型的拟合，再设计残差部分"
   ]
  },
  {
   "cell_type": "code",
   "execution_count": 8,
   "id": "4e9dca04-1ef3-479b-a664-eb8956d21c34",
   "metadata": {},
   "outputs": [],
   "source": [
    "from sklearn.linear_model import Ridge\n",
    "import matplotlib.pyplot as plt"
   ]
  },
  {
   "cell_type": "code",
   "execution_count": 9,
   "id": "de2cfb4e-0c57-47ea-988c-39a230e7e598",
   "metadata": {},
   "outputs": [],
   "source": [
    "def plot_Ridge(data):\n",
    "    for col in data.columns:\n",
    "        if col!='alpha':\n",
    "            plt.plot(data['alpha'],data[col],label=col)\n",
    "            plt.legend()\n",
    "            plt.grid(True)\n",
    "        else:\n",
    "            pass"
   ]
  },
  {
   "cell_type": "code",
   "execution_count": 10,
   "id": "4eaf0276-aa16-4f05-a1ce-c49e8792a745",
   "metadata": {},
   "outputs": [],
   "source": [
    "def ADL_Ridge(data_x,data_y,alpha=None):\n",
    "    lens=len(data_x.columns)\n",
    "    if alpha is None:\n",
    "        List_=[]\n",
    "        alphas=np.arange(0,10,0.2)\n",
    "        for alpha in tqdm(alphas,desc='正在进行 岭系数调试：'):\n",
    "            model=Ridge(alpha=alpha)\n",
    "            result=model.fit(data_x,data_y)\n",
    "            list_=[alpha]+list(result.coef_[0])\n",
    "            List_.append(list_)\n",
    "        columns=['alpha']+list(data_x.columns)\n",
    "        Data=pd.DataFrame(np.array(List_),columns=columns)\n",
    "        #这样写太过于冗杂了，此处需要一个一键绘图的函数\n",
    "        plot_Ridge(Data)\n",
    "    else:\n",
    "        model=Ridge(alpha=alpha)\n",
    "        result=model.fit(data_x,data_y)\n",
    "    return result"
   ]
  },
  {
   "cell_type": "code",
   "execution_count": 11,
   "id": "633650a2-852e-4389-bd9d-c3e17763333f",
   "metadata": {},
   "outputs": [],
   "source": [
    "from sklearn.preprocessing import MinMaxScaler,StandardScaler"
   ]
  },
  {
   "cell_type": "raw",
   "id": "1293da87-4b01-42b2-9283-61c3d75d9d33",
   "metadata": {},
   "source": [
    "if __name__=='__main__':\n",
    "    data=pd.read_excel('无缺失值数据.xlsx')\n",
    "    data=data.dropna(how='any')\n",
    "    data=data.reset_index(drop=True)\n",
    "\n",
    "    data_list=group_data(data,'地区','年份')\n",
    "    x_columns_list=['地区生产总值(万元)','第一产业增加值(万元)']\n",
    "    y_columns_list=['第三产业增加值(万元)']\n",
    "    x=data.columns\n",
    "    #-----这里随机一个laglist---\n",
    "    lag_dict={}\n",
    "    for i in tqdm(x,desc='正在进行 随机延迟生成'):\n",
    "        lag_dict[i]=np.random.randint(4)\n",
    "    #--------------------------\n",
    "    \n",
    "    data_list=use_lag_list(data_list=data_list,lag_dict=lag_dict)\n",
    "    data=pd.concat(data_list,axis=0) #注意这里重塑了data，一会有了残差要把残差列放进去\n",
    "    data=data.dropna(how='any')\n",
    "    data=data.reset_index(drop=True)\n",
    "    \n",
    "    #-----指定一下data-x和data-y----\n",
    "    data_x=data[x_columns_list]\n",
    "    data_y=data[y_columns_list]\n",
    "    X_sclar=StandardScaler()\n",
    "    Y_sclar=StandardScaler()\n",
    "    data_x_values=X_sclar.fit_transform(data_x)\n",
    "    data_y_values=Y_sclar.fit_transform(data_y)\n",
    "    data_x=pd.DataFrame(data_x_values,columns=data_x.columns)\n",
    "    data_y=pd.DataFrame(data_y_values,columns=data_y.columns)\n",
    "    #-------------------------------\n",
    "    #------计算残差 构建LSTM部分需要的结构------------\n",
    "    ADL_Ridge(data_x=data_x,data_y=data_y) #返回一张图，先确定alpha\n",
    "    #根据确定的alpha计算残差\n",
    "    result=ADL_Ridge(data_x,data_y,alpha=1)\n",
    "    y_pred=result.predict(data_x)\n",
    "    ey=Y_sclar.inverse_transform(data_y.values-y_pred)\n",
    "    residual=pd.DataFrame(ey,columns=['残差'])\n",
    "    data=pd.concat([residual,data],axis=1) \n",
    "    #---------------------------------------------\n",
    "    #注意到这里的data是包含各种残差延迟列的\n",
    "    #与LSTM所需要的训练格式有一定的出入，因此还需要再提取一次\n",
    "    data[x_columns_list+y_columns_list+['残差']]"
   ]
  },
  {
   "cell_type": "markdown",
   "id": "6461bf95-e3cb-4be2-8507-b4e33a2c4a26",
   "metadata": {},
   "source": [
    "下面先构建一个简单的LSTM结构，看情况是否需要复杂化这个模型"
   ]
  },
  {
   "cell_type": "code",
   "execution_count": 12,
   "id": "4e8b8a52-bb28-4f41-8f22-98ff87626501",
   "metadata": {},
   "outputs": [],
   "source": [
    "class LSTM(tf.keras.Model):\n",
    "    def __init__(self,number_layers,hidden_size):\n",
    "        super().__init__()\n",
    "        list_=[]\n",
    "        for i in range(number_layers-1):\n",
    "            list_.append(tf.keras.layers.LSTM(units=hidden_size,return_sequences=True))\n",
    "        list_.append(tf.keras.layers.LSTM(units=hidden_size))\n",
    "        self.lstm_layers=list_\n",
    "        self.linear=tf.keras.layers.Dense(1)\n",
    "\n",
    "    def call(self,x):\n",
    "        for layer in self.lstm_layers:\n",
    "            x=layer(x)\n",
    "        x=self.linear(x)\n",
    "        return x"
   ]
  },
  {
   "cell_type": "markdown",
   "id": "7b46934c-df4c-40b6-b005-e1eada4ac847",
   "metadata": {},
   "source": [
    "这基本上是一个万能的训练模型，应该是比较好用的"
   ]
  },
  {
   "cell_type": "code",
   "execution_count": 13,
   "id": "2453e45b-71ef-4e30-9f5a-b1b62138d8c4",
   "metadata": {},
   "outputs": [],
   "source": [
    "from sklearn.model_selection import train_test_split"
   ]
  },
  {
   "cell_type": "code",
   "execution_count": 14,
   "id": "9d9a2159-6b0d-4392-a1ab-3af885341e96",
   "metadata": {
    "scrolled": true
   },
   "outputs": [],
   "source": [
    "def train(X,y,MODEL,picture=None,title=None):\n",
    "    #------分别标准化x和y-----\n",
    "    #X=data_x.values\n",
    "    #X_scaler = MinMaxScaler()\n",
    "    #X=X_scaler.fit_transform(X)\n",
    "    #\n",
    "    #y=data_y.values\n",
    "    #Y_scaler = MinMaxScaler()\n",
    "    #y=Y_scaler.fit_transform(y)\n",
    "    \n",
    "    #-------划分训练集和测试机----\n",
    "    X_train, X_test, y_train, y_test=train_test_split(X,y,test_size=0.2,shuffle=False)\n",
    "    batch_size=128\n",
    "    train_dataset=tf.data.Dataset.from_tensor_slices((X_train, y_train)).batch(batch_size).shuffle(1000)  #相当于pytorch的dataloder\n",
    "    test_dataset=tf.data.Dataset.from_tensor_slices((X_test, y_test)).batch(batch_size)\n",
    "\n",
    "    #--------进行训练------------\n",
    "    Model=MODEL(6,64) #这里总还是需要一些参数设计的\n",
    "    Model.compile(optimizer=tf.keras.optimizers.Adam(learning_rate=0.01), loss='mse') \n",
    "    num_epochs=100\n",
    "    history=Model.fit(train_dataset, epochs=num_epochs, validation_data=test_dataset)\n",
    "\n",
    "    #-------是否进行绘图----------\n",
    "    if picture is None:\n",
    "        pass\n",
    "    else:\n",
    "        try:\n",
    "            train_preds=Model.predict(X_train)\n",
    "            test_preds=Model.predict(X_test)\n",
    "            # 逆缩放预测值和真实值\n",
    "            train_targets_scaled=Y_scaler.inverse_transform(y_train)\n",
    "            train_preds_scaled=Y_scaler.inverse_transform(train_preds)\n",
    "            \n",
    "            train_targets_scaled=train_targets_scaled[-50:]\n",
    "            train_preds_scaled=train_preds_scaled[-50:]\n",
    "            x=range(len(train_preds_scaled))\n",
    "            # -----绘制预测结果-----\n",
    "            plt.plot(x,train_targets_scaled, color='black',label='test True')\n",
    "            plt.plot(x,train_preds_scaled,'--',color='black',label='test Pred')\n",
    "            plt.title(title)\n",
    "            plt.legend()\n",
    "            plt.grid(True)\n",
    "            plt.savefig(picture,dpi=600)\n",
    "        except:\n",
    "            print('绘图错误')\n",
    "            pass\n",
    "    #这里有个问题,由于标准化函数在里面，因此还得要输出两个标准化器\n",
    "    return Model,history"
   ]
  },
  {
   "cell_type": "markdown",
   "id": "1550d437-9a20-4cf7-b9a5-05163d6ede5d",
   "metadata": {},
   "source": [
    "根据上面构件的模型和训练结构，还需要按照城市进行group 然后再进行滑动窗口"
   ]
  },
  {
   "cell_type": "code",
   "execution_count": 15,
   "id": "928a011e-605f-4efc-9d78-cf34e85ab3ed",
   "metadata": {},
   "outputs": [],
   "source": [
    "def sliding_window(data_x,data_ys,seq_length): #这里要求窗口平滑函数接收一个列表\n",
    "                                               #因为有可能要处理一一对应的样本\n",
    "    X=data_x.values\n",
    "    list_=[]\n",
    "    for data_y in data_ys:\n",
    "        y=data_y.values.reshape(-1,1)\n",
    "        sequences=[]\n",
    "        targets=[]\n",
    "        for i in range(len(X) - seq_length):\n",
    "            sequences.append(X[i:i + seq_length])\n",
    "            targets.append(y[i + seq_length])\n",
    "        list_.append(targets)\n",
    "    return np.array(sequences), list_"
   ]
  },
  {
   "cell_type": "code",
   "execution_count": 16,
   "id": "b62a42d8-33ae-41ef-bcfe-b4eda1e753ee",
   "metadata": {},
   "outputs": [],
   "source": [
    "def create_sequences(data_list,seq,x_columns_list,y_columns_list): #这个api和我之前定义的那个不一样\n",
    "    samples_x=[]\n",
    "    samples_y=[]\n",
    "    samples_e=[]\n",
    "    for df in tqdm(data_list,desc='正在处理 窗口平滑分解：'):\n",
    "        df_x=df[x_columns_list]\n",
    "        #print(len(df_x.index))\n",
    "        df_y=df[['残差']]\n",
    "        df_y2=df[y_columns_list]\n",
    "        df_ys=[df_y,df_y2]\n",
    "        try:\n",
    "            X,y=sliding_window(df_x,df_ys,seq_length=seq)\n",
    "            #print(y[1])\n",
    "            samples_x=samples_x+list(X)\n",
    "            samples_e=samples_e+list(y[0])\n",
    "            samples_y=samples_y+list(y[1])\n",
    "        except:\n",
    "            pass\n",
    "    #print(len(samples_y))\n",
    "    return np.array(samples_x),np.array(samples_e),np.array(samples_y)"
   ]
  },
  {
   "cell_type": "markdown",
   "id": "c424e919-3178-4ca7-92f7-9879267ec55d",
   "metadata": {},
   "source": [
    "但是在这个函数里，我们要确保预测后的y_real e e_hat 是一一对应的方便对应画图\n",
    "\n",
    "因此理论上可以对不同的y计算多次窗口平滑"
   ]
  },
  {
   "cell_type": "raw",
   "id": "83be032e-2c68-4ce2-92fc-de25640593e4",
   "metadata": {},
   "source": [
    "if __name__=='__main__':\n",
    "    X,e,y=create_sequences(data_list,3)\n",
    "    #这里的X代表样本，e对应的残差项，为LSTM部分的待预测项\n",
    "    #y代表的是实际待预测值，在以后的可视化中会用到\n",
    "    train(X,y,LSTM)"
   ]
  },
  {
   "cell_type": "markdown",
   "id": "2fce2865-d652-4fb3-b991-fd4673781d0c",
   "metadata": {},
   "source": [
    "这里又出现了一个问题，LSTM的训练结构为使用时间长度向量去预测下一时间下的向量\n",
    "但是我的标准化器之中，需要一起传入列名和之前一样的dataframe\n",
    "这很麻烦，\n",
    "\n",
    "也就是说，我需要一个api来专门处理标准化的问题，这个api传入数据 然后输出三个Sclar"
   ]
  },
  {
   "cell_type": "code",
   "execution_count": 17,
   "id": "9b7e213a-7072-486c-974d-066fd7084db0",
   "metadata": {},
   "outputs": [],
   "source": [
    "def sclar_data(data,x_columns_list,y_columns_list):\n",
    "    X_scaler=MinMaxScaler()\n",
    "    E_scaler=MinMaxScaler()\n",
    "    Y_scaler=MinMaxScaler()\n",
    "    data_x=data[x_columns_list]\n",
    "    data_e=data[['残差']]\n",
    "    data_y=data[y_columns_list]\n",
    "    data_x=X_scaler.fit_transform(data_x)\n",
    "    data_e=E_scaler.fit_transform(data_e)\n",
    "    data_y=Y_scaler.fit_transform(data_y)\n",
    "    return X_scaler,E_scaler,Y_scaler"
   ]
  },
  {
   "cell_type": "code",
   "execution_count": 18,
   "id": "89fc42a8-1fce-478f-a87f-ac44024bc953",
   "metadata": {},
   "outputs": [],
   "source": [
    "class ADL_LSTM():\n",
    "    def __init__(self,data,x_columns_list,y_columns_list,lag_dict=None):\n",
    "        #注意lag_list部分\n",
    "        self.data=data\n",
    "        self.x_columns_list=x_columns_list\n",
    "        self.y_columns_list=y_columns_list\n",
    "        self.data_with_lag=None  #data2中储存的是对data进行删除缺失值、降序排列、增加延迟项的\n",
    "\n",
    "        self.data_to_lstm=None\n",
    "        self.lag_dict=lag_dict\n",
    "        self.x_columns_list_lag=None\n",
    "        self.L_hat=None\n",
    "        self.LSTM_model=None\n",
    "        \n",
    "        self.history=None\n",
    "    \n",
    "    def processing_data(self):\n",
    "        data=self.data\n",
    "        data_list=group_data(data,'地区','年份')\n",
    "       \n",
    "        if self.lag_dict == None:\n",
    "            lag_dict={}\n",
    "            for i in tqdm(data.columns,desc='正在进行 随机延迟生成'):\n",
    "                lag_dict[i]=3\n",
    "        else:\n",
    "            lag_dict=self.lag_dict\n",
    "        print(len(data_list))\n",
    "        data_list=use_lag_list(data_list=data_list,lag_dict=lag_dict) #为data添加延迟列\n",
    "        print(len(data_list))\n",
    "        data=pd.concat(data_list,axis=0) #注意这里重塑了data，一会有了残差要把残差列放进去\n",
    "        data=data.dropna(how='any')\n",
    "        data=data.reset_index(drop=True)\n",
    "        self.data_with_lag=data\n",
    "        \n",
    "        x_columns_list_lag=use_lag_list2(self.x_columns_list,self.y_columns_list,lag_dict)\n",
    "        self.x_columns_list_lag=x_columns_list_lag\n",
    "\n",
    "    def ADL_Ridge(self,alpha=None):\n",
    "        #self.processing_data() #执行一下数据处理函数\n",
    "        data=self.data_with_lag\n",
    "        x_columns_list=self.x_columns_list_lag\n",
    "        y_columns_list=self.y_columns_list\n",
    "        \n",
    "        data_x=data[x_columns_list] \n",
    "        data_y=data[y_columns_list]\n",
    "        X_sclar=StandardScaler()\n",
    "        Y_sclar=StandardScaler()\n",
    "        data_x_values=X_sclar.fit_transform(data_x)\n",
    "        data_y_values=Y_sclar.fit_transform(data_y)\n",
    "        data_x=pd.DataFrame(data_x_values,columns=data_x.columns)\n",
    "        data_y=pd.DataFrame(data_y_values,columns=data_y.columns)\n",
    "        \n",
    "        if alpha==None:\n",
    "            ADL_Ridge(data_x=data_x,data_y=data_y) #返回一张图，先确定alpha\n",
    "            #根据确定的alpha计算残差\n",
    "            result=ADL_Ridge(data_x,data_y,alpha=1)\n",
    "        else:\n",
    "            result=ADL_Ridge(data_x,data_y,alpha=alpha)\n",
    "        \n",
    "        self.ADL_Riged_Model=result\n",
    "        y_pred=result.predict(data_x)\n",
    "        self.L_hat=y_pred\n",
    "        \n",
    "        ey=Y_sclar.inverse_transform(data_y.values-y_pred)\n",
    "        residual=pd.DataFrame(ey,columns=['残差'])\n",
    "        \n",
    "        data=pd.concat([residual,data],axis=1)\n",
    "        D=data[self.x_columns_list+y_columns_list+['残差','地区','年份']]\n",
    "        self.data_to_lstm=D\n",
    "\n",
    "    def LSTM(self,seq=3):\n",
    "        #self.ADL_Ridge()\n",
    "        data=self.data_to_lstm\n",
    "        y_columns_list=self.y_columns_list\n",
    "        x_columns_list=self.x_columns_list+['残差']\n",
    "        xx,ee,yy=sclar_data(data,x_columns_list,y_columns_list)\n",
    "        data_sclar=MinMaxScaler()\n",
    "        #data=data.drop(['地区','年份'],axis=1)\n",
    "        numeric_cols=data.columns.difference(['地区','年份'])\n",
    "        data[numeric_cols]=data_sclar.fit_transform(data[numeric_cols])\n",
    "        #data=data_sclar.fit_transform(data)\n",
    "        data_list=group_data(data,'年份')\n",
    "        \n",
    "        X,e,y=create_sequences(data_list,seq,x_columns_list,y_columns_list)  #注意这里的X,e,y都已经是标准化后的\n",
    "        self.LSTM_samples=[X,e,y]\n",
    "        print('正在进行 LSTM训练 ...')\n",
    "        Model,history=train(X,e,LSTM)\n",
    "\n",
    "        self.LSTM_model=Model\n",
    "        self.history=history\n",
    "        self.X_Scaler=xx\n",
    "        self.E_Scaler=ee\n",
    "        self.Y_Scaler=yy\n",
    "        self.e_pred=Model.predict(X)\n",
    "        self.y_real=y\n",
    "        self.e_real=e\n",
    "        \n",
    "    def fit(self,alpha=None,seq=3):\n",
    "        self.processing_data()\n",
    "        self.ADL_Ridge(alpha=alpha)\n",
    "        self.LSTM(seq=seq)\n",
    "        \n",
    "    def fit_withpicture(self,seq=3,alpha=None):\n",
    "        self.processing_data()\n",
    "        self.ADL_Ridge(alpha=alpha)\n",
    "        self.LSTM(seq=seq)\n",
    "        yy=self.Y_Scaler\n",
    "        y_real=yy.inverse_transform(self.y_real)\n",
    "        ee=self.E_Scaler\n",
    "        e_pred=ee.inverse_transform(self.e_pred)\n",
    "        e_real=ee.inverse_transform(self.e_real)\n",
    "        print(e_real)\n",
    "        \n",
    "        \n",
    "                \n"
   ]
  },
  {
   "cell_type": "code",
   "execution_count": 19,
   "id": "4df6b964-1ed8-4863-8a7a-67c31964c3b4",
   "metadata": {},
   "outputs": [
    {
     "name": "stderr",
     "output_type": "stream",
     "text": [
      "正在进行 分组降序排列：: 100%|██████████████████████████████████████████████████████| 250/250 [00:00<00:00, 722.85it/s]\n",
      "正在进行 随机延迟生成: 100%|█████████████████████████████████████████████████████████| 14/14 [00:00<00:00, 6994.67it/s]\n"
     ]
    },
    {
     "name": "stdout",
     "output_type": "stream",
     "text": [
      "250\n"
     ]
    },
    {
     "name": "stderr",
     "output_type": "stream",
     "text": [
      "正在进行 延迟阶数处理: 100%|█████████████████████████████████████████████████████████| 250/250 [00:06<00:00, 36.85it/s]\n"
     ]
    },
    {
     "name": "stdout",
     "output_type": "stream",
     "text": [
      "250\n"
     ]
    },
    {
     "name": "stderr",
     "output_type": "stream",
     "text": [
      "正在进行 岭系数调试：: 100%|███████████████████████████████████████████████████████████| 50/50 [00:00<00:00, 85.75it/s]\n"
     ]
    },
    {
     "name": "stdout",
     "output_type": "stream",
     "text": [
      "正在进行 LSTM训练 ...\n"
     ]
    },
    {
     "name": "stderr",
     "output_type": "stream",
     "text": [
      "正在进行 分组降序排列：: 100%|████████████████████████████████████████████████████████| 13/13 [00:00<00:00, 294.73it/s]\n",
      "正在处理 窗口平滑分解：: 100%|████████████████████████████████████████████████████████| 13/13 [00:00<00:00, 142.79it/s]\n"
     ]
    },
    {
     "name": "stdout",
     "output_type": "stream",
     "text": [
      "\u001b[1m79/79\u001b[0m \u001b[32m━━━━━━━━━━━━━━━━━━━━\u001b[0m\u001b[37m\u001b[0m \u001b[1m4s\u001b[0m 30ms/step\n",
      "[[ 0.44354388]\n",
      " [-0.18697066]\n",
      " [ 0.14468691]\n",
      " ...\n",
      " [ 0.52591956]\n",
      " [ 0.14892929]\n",
      " [ 0.18316116]]\n"
     ]
    },
    {
     "data": {
      "image/png": "[encoded data removed]",
      "text/plain": [
       "<Figure size 640x480 with 1 Axes>"
      ]
     },
     "metadata": {},
     "output_type": "display_data"
    }
   ],
   "source": [
    "if __name__=='__main__':\n",
    "    data=pd.read_excel('总模型数据.xlsx')\n",
    "    x_columns_list=['人口','科技水平支持','教育水平支持','对外开放水平','经济','产业结构升级']\n",
    "    y_columns_list=['数字经济']\n",
    "    M=ADL_LSTM(data=data,x_columns_list=x_columns_list,y_columns_list=y_columns_list)\n",
    "    M.fit_withpicture()"
   ]
  },
  {
   "cell_type": "code",
   "execution_count": null,
   "id": "e811799c-0d62-4a59-942e-fc33b507a643",
   "metadata": {},
   "outputs": [],
   "source": []
  }
 ],
 "metadata": {
  "kernelspec": {
   "display_name": "Python 3 (ipykernel)",
   "language": "python",
   "name": "python3"
  },
  "language_info": {
   "codemirror_mode": {
    "name": "ipython",
    "version": 3
   },
   "file_extension": ".py",
   "mimetype": "text/x-python",
   "name": "python",
   "nbconvert_exporter": "python",
   "pygments_lexer": "ipython3",
   "version": "3.12.7"
  }
 },
 "nbformat": 4,
 "nbformat_minor": 5
}
